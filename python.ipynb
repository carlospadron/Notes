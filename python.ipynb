{
 "cells": [
  {
   "cell_type": "markdown",
   "metadata": {
    "colab_type": "text",
    "id": "ZgmOwFw7cXYc"
   },
   "source": [
    "# Python sheet\n",
    "By Carlos Padron padron.ca@gmail.com"
   ]
  },
  {
   "cell_type": "code",
   "execution_count": 3,
   "metadata": {
    "colab": {
     "autoexec": {
      "startup": false,
      "wait_interval": 0
     }
    },
    "colab_type": "code",
    "id": "7BFG1aD0fdXz"
   },
   "outputs": [],
   "source": [
    "#sankey graphs\n",
    "from ipysankeywidget import SankeyWidget\n",
    "import floweaver as fw\n",
    "\n",
    "#matplotlib and seaborn\n",
    "from matplotlib.animation import FuncAnimation\n",
    "import matplotlib.pyplot as plt\n",
    "import seaborn as sns\n",
    "%matplotlib inline\n",
    "\n",
    "#pandas numpy\n",
    "import numpy as np\n",
    "import pandas as pd\n",
    "\n",
    "#geopandas, shapely, fiona, rasterio\n",
    "import fiona\n",
    "import geopandas as gpd\n",
    "from shapely import wkt\n",
    "import rasterio\n",
    "\n",
    "#file management\n",
    "import glob\n",
    "\n",
    "#databases\n",
    "import psycopg2\n",
    "\n",
    "#other numeric or scientific\n",
    "import networkx as nx\n",
    "from sklearn import preprocessing\n",
    "import random as rd\n",
    "import scipy as sp\n",
    "\n",
    "#time and date\n",
    "import time"
   ]
  },
  {
   "cell_type": "markdown",
   "metadata": {
    "colab_type": "text",
    "id": "pDBbCm0TfvtO"
   },
   "source": [
    "## 1 Arrays (scipy)"
   ]
  },
  {
   "cell_type": "code",
   "execution_count": 1,
   "metadata": {
    "colab": {
     "autoexec": {
      "startup": false,
      "wait_interval": 0
     },
     "base_uri": "https://localhost:8080/",
     "height": 34,
     "output_extras": [
      {
       "item_id": 1
      }
     ]
    },
    "colab_type": "code",
    "executionInfo": {
     "elapsed": 497,
     "status": "ok",
     "timestamp": 1522138070718,
     "user": {
      "displayName": "Carlos Padrón",
      "photoUrl": "//lh6.googleusercontent.com/-UUNqYpxzZzI/AAAAAAAAAAI/AAAAAAAAAJ4/3lCXN-PU3UY/s50-c-k-no/photo.jpg",
      "userId": "116143522284210031217"
     },
     "user_tz": -60
    },
    "id": "H8XAc5RdbMFJ",
    "outputId": "336e66ab-1113-47f4-b9e5-f41505be5417"
   },
   "outputs": [
    {
     "name": "stdout",
     "output_type": "stream",
     "text": [
      "[10 11 12 13 14 15 16 17 18 19]\n",
      "[-10 -11 -12 -13 -14 -15 -16 -17 -18 -19]\n",
      "[-100 -121 -144 -169 -196 -225 -256 -289 -324 -361]\n",
      "[[ 10  20  30  40  50  60  70  80  90 100]\n",
      " [ 10  20  30  40  50  60  70  80  90 100]\n",
      " [ 10  20  30  40  50  60  70  80  90 100]\n",
      " [ 10  20  30  40  50  60  70  80  90 100]\n",
      " [ 10  20  30  40  50  60  70  80  90 100]]\n"
     ]
    }
   ],
   "source": [
    "import scipy as sp\n",
    "\n",
    "#array\n",
    "my_array = sp.array(range(10,20))\n",
    "print(my_array)\n",
    "\n",
    "#negative array with negative step\n",
    "my_array_neg = sp.array(range(-10,-20,-1))\n",
    "print(my_array_neg)\n",
    "\n",
    "#multiply array\n",
    "arrayProduct = my_array*my_array_neg\n",
    "print(arrayProduct)\n",
    "\n",
    "#matrix or square array\n",
    "squareArray = sp.array([range(10,101,10) for i in range(5)])\n",
    "print(squareArray)"
   ]
  },
  {
   "cell_type": "markdown",
   "metadata": {},
   "source": [
    "## 2 CSV"
   ]
  },
  {
   "cell_type": "markdown",
   "metadata": {},
   "source": [
    "### 2.1 Create CVS (Pandas & Numpy)"
   ]
  },
  {
   "cell_type": "code",
   "execution_count": 2,
   "metadata": {
    "colab": {
     "autoexec": {
      "startup": false,
      "wait_interval": 0
     }
    },
    "colab_type": "code",
    "id": "cyX6IqRcb0EY"
   },
   "outputs": [],
   "source": [
    "import numpy as np\n",
    "import pandas as pd\n",
    "\n",
    "#create csv with numpy\n",
    "x = [1,2]\n",
    "y = [1,2]\n",
    "array = sp.array([x,y])\n",
    "np.savetxt('coord.csv',array, delimiter = ',')\n",
    "\n",
    "#create csv with pandas\n",
    "pd_coord = pd.DataFrame({'X':x,'Y':y})\n",
    "pd_coord.to_csv('pd_coord.csv', index = False)"
   ]
  },
  {
   "cell_type": "markdown",
   "metadata": {},
   "source": [
    "### 2.2 Read and save csv (Python, Pandas & Numpy)"
   ]
  },
  {
   "cell_type": "code",
   "execution_count": null,
   "metadata": {
    "collapsed": true
   },
   "outputs": [],
   "source": [
    "#load any csv and write lines to it\n",
    "data = open('data.csv')\n",
    "infile = csv.reader(data,delimiter = ',')\n",
    "edit = csv.writer(data, delimiter = ';')\n",
    "for row in extra_data:\n",
    "    edit.writerow(row)\n",
    "data.close()"
   ]
  },
  {
   "cell_type": "code",
   "execution_count": 9,
   "metadata": {
    "colab": {
     "autoexec": {
      "startup": false,
      "wait_interval": 0
     }
    },
    "colab_type": "code",
    "id": "vcUBZpDQb5hw"
   },
   "outputs": [
    {
     "data": {
      "text/html": [
       "<div>\n",
       "<table border=\"1\" class=\"dataframe\">\n",
       "  <thead>\n",
       "    <tr style=\"text-align: right;\">\n",
       "      <th></th>\n",
       "      <th>x</th>\n",
       "      <th>y</th>\n",
       "    </tr>\n",
       "  </thead>\n",
       "  <tbody>\n",
       "    <tr>\n",
       "      <th>0</th>\n",
       "      <td>2.0</td>\n",
       "      <td>4.0</td>\n",
       "    </tr>\n",
       "    <tr>\n",
       "      <th>1</th>\n",
       "      <td>2.0</td>\n",
       "      <td>4.0</td>\n",
       "    </tr>\n",
       "  </tbody>\n",
       "</table>\n",
       "</div>"
      ],
      "text/plain": [
       "     x    y\n",
       "0  2.0  4.0\n",
       "1  2.0  4.0"
      ]
     },
     "execution_count": 9,
     "metadata": {},
     "output_type": "execute_result"
    }
   ],
   "source": [
    "#Load ‘coord.csv’, multiply all the values by 10, delete the last column and \n",
    "#resave it.\n",
    "\n",
    "#reads csv with no header (if there is a header is going keep it as a row)\n",
    "data = pd.read_csv('coord.csv', names = [\"x\", \"y\"])\n",
    "data = data*2\n",
    "#saved csv limiting format to three decimals\n",
    "data.to_csv('coord.csv', index = False, float_format='%.3f')\n",
    "data"
   ]
  },
  {
   "cell_type": "code",
   "execution_count": 44,
   "metadata": {
    "colab": {
     "autoexec": {
      "startup": false,
      "wait_interval": 0
     },
     "base_uri": "https://localhost:8080/",
     "height": 34,
     "output_extras": [
      {
       "item_id": 1
      }
     ]
    },
    "colab_type": "code",
    "executionInfo": {
     "elapsed": 503,
     "status": "ok",
     "timestamp": 1522138986162,
     "user": {
      "displayName": "Carlos Padrón",
      "photoUrl": "//lh6.googleusercontent.com/-UUNqYpxzZzI/AAAAAAAAAAI/AAAAAAAAAJ4/3lCXN-PU3UY/s50-c-k-no/photo.jpg",
      "userId": "116143522284210031217"
     },
     "user_tz": -60
    },
    "id": "YjUQsBM1alh2",
    "outputId": "ed3e25bd-eaf9-4b67-d867-5ce688cc9ae1"
   },
   "outputs": [
    {
     "name": "stdout",
     "output_type": "stream",
     "text": [
      "[[0.97772443 0.11682463]]\n"
     ]
    }
   ],
   "source": [
    "#Load ‘coord.csv’ as an array. Transform it so that X and Y are columns, \n",
    "#rather than rows [Hint: Look up the documentation on transposing an array]. \n",
    "#Add #three more random coordinates. Plot all the points for which X is greater \n",
    "#than #0.7 and Y is less than 0.3.\n",
    "from numpy import genfromtxt\n",
    "data = genfromtxt('coord.csv', delimiter=',')\n",
    "data = np.transpose(data)\n",
    "data = np.append(data,[[rd.random(),rd.random()] for i in range(3)], axis=0)\n",
    "print(data[(data[:,0]>0.7) & (data[:,1]<0.3)])"
   ]
  },
  {
   "cell_type": "markdown",
   "metadata": {},
   "source": [
    "### 2.3 Concatenate CSV"
   ]
  },
  {
   "cell_type": "code",
   "execution_count": null,
   "metadata": {
    "collapsed": true
   },
   "outputs": [],
   "source": [
    "#concatenate multiple csv\n",
    "files = glob.glob('Documents/x/*/*.csv', recursive=True)\n",
    "result = pd.concat([pd.read_csv(f) for f in files], ignore_index=True)\n",
    "result.to_csv('*.csv')"
   ]
  },
  {
   "cell_type": "markdown",
   "metadata": {},
   "source": [
    "## Cython"
   ]
  },
  {
   "cell_type": "code",
   "execution_count": null,
   "metadata": {},
   "outputs": [],
   "source": [
    "%load_ext Cython\n",
    "\n",
    "#obtain la_bd centroids\n",
    "centroids = la_bd[\"geometry\"].centroid\n",
    "la_bd2 = la_bd.copy()\n",
    "la_bd2 = la_bd2.assign(la_geom = la_bd2[\"geometry\"])\n",
    "la_bd2 = la_bd2.assign(geometry = centroids)\n",
    "\n",
    "#match centroids with fua areas\n",
    "fua_map = fua_map.assign(fua_geom = fua_map[\"geometry\"])\n",
    "la_bd3 = gpd.sjoin(la_bd2, fua_map, how=\"left\", op='intersects')\n",
    "\n",
    "#creates merged columns (names and geometries) with fua if available or la if not\n",
    "la_bd3 = la_bd3.assign(\n",
    "    merged_nm = np.where(la_bd3[\"uafua16nm\"].isna(), la_bd3[\"cmlad11nm\"], la_bd3[\"uafua16nm\"]),\n",
    "    merged_geom = np.where(la_bd3[\"uafua16nm\"].isna(), la_bd3[\"la_geom\"], la_bd3[\"fua_geom\"]))"
   ]
  },
  {
   "cell_type": "markdown",
   "metadata": {},
   "source": [
    "## 3 Databases"
   ]
  },
  {
   "cell_type": "markdown",
   "metadata": {},
   "source": [
    "### 3.1 psycopg2"
   ]
  },
  {
   "cell_type": "code",
   "execution_count": 1,
   "metadata": {},
   "outputs": [],
   "source": [
    "import psycopg2\n",
    "import pprint\n",
    "\n",
    "conn = psycopg2.connect(\"dbname=gis user=carlos\")\n",
    "cursor = conn.cursor()"
   ]
  },
  {
   "cell_type": "code",
   "execution_count": 2,
   "metadata": {},
   "outputs": [
    {
     "name": "stdout",
     "output_type": "stream",
     "text": [
      "[('pg_toast',),\n",
      " ('pg_temp_1',),\n",
      " ('pg_toast_temp_1',),\n",
      " ('pg_catalog',),\n",
      " ('public',),\n",
      " ('information_schema',),\n",
      " ('topology',)]\n"
     ]
    }
   ],
   "source": [
    "#list schemas\n",
    "cursor.execute(\"SELECT schema_name FROM information_schema.schemata\")\n",
    "rows = cursor.fetchall()  \n",
    "pprint.pprint(rows) "
   ]
  },
  {
   "cell_type": "code",
   "execution_count": 6,
   "metadata": {
    "collapsed": true
   },
   "outputs": [],
   "source": [
    "#using psycopg (works better on terminal)\n",
    "cursor.execute(\"copy ucl.road_data (index, \\\"avgSpeed\\\", date, description, id, lat, lon, \\\"totalVolume\\\") FROM '/home/carlos/Documents/road_data.csv' DELIMITER ',' CSV HEADER\")"
   ]
  },
  {
   "cell_type": "markdown",
   "metadata": {},
   "source": [
    "### 3.2 psycopg2 and geopandas"
   ]
  },
  {
   "cell_type": "code",
   "execution_count": 6,
   "metadata": {},
   "outputs": [],
   "source": [
    "import geopandas as gpd\n",
    "%matplotlib inline"
   ]
  },
  {
   "cell_type": "code",
   "execution_count": 9,
   "metadata": {},
   "outputs": [
    {
     "data": {
      "text/plain": [
       "<matplotlib.axes._subplots.AxesSubplot at 0x7f485a711208>"
      ]
     },
     "execution_count": 9,
     "metadata": {},
     "output_type": "execute_result"
    },
    {
     "data": {
      "image/png": "[encoded data removed]",
      "text/plain": [
       "<Figure size 432x288 with 1 Axes>"
      ]
     },
     "metadata": {},
     "output_type": "display_data"
    }
   ],
   "source": [
    "#create polygons\n",
    "query = 'SELECT \\\n",
    "    ST_MakeBox2D(ST_Point(0,0), ST_Point(10,10))::geometry AS geom, \\\n",
    "    1 AS color \\\n",
    "    UNION \\\n",
    "    SELECT \\\n",
    "    ST_MakeBox2D(ST_Point(9,9), ST_Point(19,19))::geometry AS geom, \\\n",
    "    2 AS color'\n",
    "df = gpd.GeoDataFrame.from_postgis(query, conn, geom_col='geom')\n",
    "df.plot(column='color')"
   ]
  },
  {
   "cell_type": "markdown",
   "metadata": {},
   "source": [
    "## 4 Dataframes"
   ]
  },
  {
   "cell_type": "code",
   "execution_count": 3,
   "metadata": {},
   "outputs": [
    {
     "name": "stdout",
     "output_type": "stream",
     "text": [
      "   Age  Height    Name\n",
      "a   10     160    juan\n",
      "b   20     159  carlos\n",
      "c   30     159   maria\n",
      "d   20     159    jose\n",
      "e   15     158     ana\n"
     ]
    }
   ],
   "source": [
    "#Create a data frame with five rows and three columns. The titles of the \n",
    "#columns should be “Name”, “Age” and “Height”. They can be filled with any \n",
    "#appropriate data, but at least two people should share the same age.\n",
    "\n",
    "d = {\"Name\" : pd.Series(['juan','carlos','maria','jose','ana'], index=['a', 'b', 'c', 'd', 'e']),\n",
    "     \"Age\" : pd.Series([10,20,30,20,15], index=['a', 'b', 'c', 'd', 'e']),\n",
    "     \"Height\" : pd.Series([rd.randint(150,180) for i in range(5)], index=['a', 'b', 'c', 'd', 'e'])}\n",
    "dataFrame = pd.DataFrame(d)\n",
    "print(dataFrame)"
   ]
  },
  {
   "cell_type": "code",
   "execution_count": 4,
   "metadata": {
    "colab": {
     "autoexec": {
      "startup": false,
      "wait_interval": 0
     },
     "base_uri": "https://localhost:8080/",
     "height": 136,
     "output_extras": [
      {
       "item_id": 1
      }
     ]
    },
    "colab_type": "code",
    "executionInfo": {
     "elapsed": 479,
     "status": "ok",
     "timestamp": 1522138415479,
     "user": {
      "displayName": "Carlos Padrón",
      "photoUrl": "//lh6.googleusercontent.com/-UUNqYpxzZzI/AAAAAAAAAAI/AAAAAAAAAJ4/3lCXN-PU3UY/s50-c-k-no/photo.jpg",
      "userId": "116143522284210031217"
     },
     "user_tz": -60
    },
    "id": "q1HUeXBmbgNL",
    "outputId": "ee0a3c01-6f26-4fb8-ce92-a310dd35aaa2"
   },
   "outputs": [
    {
     "name": "stdout",
     "output_type": "stream",
     "text": [
      "     Height\n",
      "Age        \n",
      "10      160\n",
      "15      158\n",
      "20      159\n",
      "30      159\n"
     ]
    }
   ],
   "source": [
    "#Group the dataframe by age and print the mean height of each group.\n",
    "grouped = dataFrame.groupby(['Age'])\n",
    "print(grouped.mean())"
   ]
  },
  {
   "cell_type": "code",
   "execution_count": null,
   "metadata": {},
   "outputs": [],
   "source": [
    "grouped = grouped.groupby([\"lat\", \"lon\", pd.Grouper(key='date', freq='15min')])\n",
    "summary = grouped.mean()\n",
    "summary.head()"
   ]
  },
  {
   "cell_type": "code",
   "execution_count": 25,
   "metadata": {},
   "outputs": [
    {
     "name": "stdout",
     "output_type": "stream",
     "text": [
      "  Age  Height     Name\n",
      "0  10     157     juan\n",
      "1  20     153   carlos\n",
      "2  30     161    maria\n",
      "3  20     157     jose\n",
      "4  15     176      ana\n",
      "5  20     165  georgia\n"
     ]
    }
   ],
   "source": [
    "#add new row\n",
    "row = pd.DataFrame({\"Name\" : \"georgia\", \"Age\" : \"20\", \"Height\" : 165}, index=[\"f\"])\n",
    "dataFrame = pd.concat([dataFrame, row], ignore_index=True)\n",
    "print(dataFrame)"
   ]
  },
  {
   "cell_type": "code",
   "execution_count": null,
   "metadata": {},
   "outputs": [],
   "source": [
    "#summary table\n",
    "\n",
    "values = df.groupby(['col1', 'col2'])['col3'].count().unstack([0])\n",
    "total_by_col1 = values.sum(axis=1)\n",
    "total = pd.concat([values, total_by_col1], axis = 1)\n",
    "total_by_col2 = total.sum()\n",
    "total = pd.concat([total, total_by_col2.to_frame().transpose()], axis = 0)\n",
    "total = total.assign(perc1 = total['val 1']/df.shape[0] , perc2 = total['val 2']/df.shape[0])\n",
    "total = total.rename(columns={0: 'Total by col1'})\n",
    "total = total.rename(index={0: 'Total by col2'})"
   ]
  },
  {
   "cell_type": "code",
   "execution_count": null,
   "metadata": {},
   "outputs": [],
   "source": [
    "dff1.columns.get_loc(\"col1\")"
   ]
  },
  {
   "cell_type": "markdown",
   "metadata": {},
   "source": [
    "## Dictionaries"
   ]
  },
  {
   "cell_type": "code",
   "execution_count": 7,
   "metadata": {},
   "outputs": [
    {
     "name": "stdout",
     "output_type": "stream",
     "text": [
      "1\n",
      "dict_values([2, 1])\n",
      "dict_keys(['second', 'first'])\n"
     ]
    }
   ],
   "source": [
    "#Create simple dictionary and get element by key, values and keys\n",
    "dictionary = {'first':1, 'second':2}\n",
    "print(dictionary['first'])\n",
    "print(dictionary.values())\n",
    "print(dictionary.keys())"
   ]
  },
  {
   "cell_type": "code",
   "execution_count": 23,
   "metadata": {
    "colab": {
     "autoexec": {
      "startup": false,
      "wait_interval": 0
     },
     "base_uri": "https://localhost:8080/",
     "height": 34,
     "output_extras": [
      {
       "item_id": 1
      }
     ]
    },
    "colab_type": "code",
    "executionInfo": {
     "elapsed": 500,
     "status": "ok",
     "timestamp": 1522138187802,
     "user": {
      "displayName": "Carlos Padrón",
      "photoUrl": "//lh6.googleusercontent.com/-UUNqYpxzZzI/AAAAAAAAAAI/AAAAAAAAAJ4/3lCXN-PU3UY/s50-c-k-no/photo.jpg",
      "userId": "116143522284210031217"
     },
     "user_tz": -60
    },
    "id": "O0LYMrmTbXVy",
    "outputId": "70a2db2b-4165-482f-a2ab-6f6b15e807fb"
   },
   "outputs": [
    {
     "name": "stdout",
     "output_type": "stream",
     "text": [
      "{'red': 3, 'green': 5, 'blue': 4}\n"
     ]
    }
   ],
   "source": [
    "#Create a dictionary where the keys are three colours (strings) and the \n",
    "#values are the number of letters in each colour.\n",
    "colours = ['red', 'green', 'blue']\n",
    "coloursDict = {i:len(i) for i in colours}\n",
    "print(coloursDict)"
   ]
  },
  {
   "cell_type": "code",
   "execution_count": 24,
   "metadata": {
    "colab": {
     "autoexec": {
      "startup": false,
      "wait_interval": 0
     },
     "base_uri": "https://localhost:8080/",
     "height": 34,
     "output_extras": [
      {
       "item_id": 1
      }
     ]
    },
    "colab_type": "code",
    "executionInfo": {
     "elapsed": 483,
     "status": "ok",
     "timestamp": 1522138220261,
     "user": {
      "displayName": "Carlos Padrón",
      "photoUrl": "//lh6.googleusercontent.com/-UUNqYpxzZzI/AAAAAAAAAAI/AAAAAAAAAJ4/3lCXN-PU3UY/s50-c-k-no/photo.jpg",
      "userId": "116143522284210031217"
     },
     "user_tz": -60
    },
    "id": "UUT_OvqIbYl6",
    "outputId": "22c42401-c718-460a-bf60-2d2f6e736692",
    "scrolled": true
   },
   "outputs": [
    {
     "name": "stdout",
     "output_type": "stream",
     "text": [
      "{5: 25, 6: 36, 7: 49, 8: 64, 9: 81, 10: 100}\n"
     ]
    }
   ],
   "source": [
    "#Use a for loop to create a dictionary where the keys are the numbers from 5 \n",
    "#to 10 and the values are the squares of the keys.\n",
    "numDict = {i:i**2 for i in range(5,11)}\n",
    "print(numDict)"
   ]
  },
  {
   "cell_type": "markdown",
   "metadata": {},
   "source": [
    "## Flow control"
   ]
  },
  {
   "cell_type": "code",
   "execution_count": null,
   "metadata": {
    "collapsed": true
   },
   "outputs": [],
   "source": [
    "# double variables from a list ith double values. works also with objects\n",
    "for i, x in enumerate(['first', 'second', 'third']):\n",
    "    i, x\n",
    "    #stop\n",
    "    break\n",
    "    #continues with next\n",
    "    continue\n",
    "    #does nothing\n",
    "    pass"
   ]
  },
  {
   "cell_type": "markdown",
   "metadata": {},
   "source": [
    "## Functions"
   ]
  },
  {
   "cell_type": "code",
   "execution_count": 5,
   "metadata": {},
   "outputs": [
    {
     "name": "stdout",
     "output_type": "stream",
     "text": [
      "hello\n",
      "2\n"
     ]
    }
   ],
   "source": [
    "#definining function with no return or input\n",
    "def myFunctionHello():\n",
    "    print(\"hello\")\n",
    "#definining function with return or input    \n",
    "def myFunctionSum(x):\n",
    "    return x+1\n",
    "\n",
    "myFunctionHello()\n",
    "print(myFunctionSum(1))"
   ]
  },
  {
   "cell_type": "markdown",
   "metadata": {},
   "source": [
    "## Logical"
   ]
  },
  {
   "cell_type": "code",
   "execution_count": null,
   "metadata": {
    "collapsed": true
   },
   "outputs": [],
   "source": [
    "if x clause:\n",
    "elif:\n",
    "else:"
   ]
  },
  {
   "cell_type": "code",
   "execution_count": null,
   "metadata": {
    "collapsed": true
   },
   "outputs": [],
   "source": [
    "#logical operators\n",
    "a == b > c\n",
    "<>\n",
    ">=\n",
    "in []\n",
    "type(x) is list\n",
    "(A and (not B)) or C"
   ]
  },
  {
   "cell_type": "code",
   "execution_count": null,
   "metadata": {},
   "outputs": [],
   "source": [
    "#logical operator pandas\n",
    "##show rows in usual residence missing in cmlad11cd\n",
    "~RF01BEW_la[\"usual_residence\"].isin(la_bd[\"cmlad11cd\"]).any()"
   ]
  },
  {
   "cell_type": "markdown",
   "metadata": {
    "colab_type": "text",
    "id": "k19JdbkxcsyD"
   },
   "source": [
    "## Lists\n",
    "see official documentation https://docs.python.org/3/"
   ]
  },
  {
   "cell_type": "code",
   "execution_count": null,
   "metadata": {
    "collapsed": true
   },
   "outputs": [],
   "source": [
    "#empty list\n",
    "List=[]\n",
    "#nested comprehension\n",
    "List=[(x,y) for x in range(5) for y in range(5) if x<>y]    \n",
    "#nested \n",
    "NestedList=[[],[]]\n",
    "#add item x\n",
    "List.append(x)\n",
    "#add list x\n",
    "List.extend(x)\n",
    "#insert in position\n",
    "List.insert(pos,x)\n",
    "#remove first value encountered\n",
    "List.remove(x)\n",
    "#clear list\n",
    "List.clear()\n",
    "#returns position of x\n",
    "List.index(x)\n",
    "#count appearances of x\n",
    "List.count(x)\n",
    "#sort list\n",
    "List.sort()\n",
    "#reverse list \n",
    "List.reverse()\n",
    "#remove item in position or last by default\n",
    "List.pop(x)\n",
    "#python counts from 0\n",
    "dataType[2:]\n",
    "#it also counts from -1 which is last position (reversed order)\n",
    "dataType[-1]"
   ]
  },
  {
   "cell_type": "code",
   "execution_count": 6,
   "metadata": {
    "colab": {
     "autoexec": {
      "startup": false,
      "wait_interval": 0
     },
     "base_uri": "https://localhost:8080/",
     "height": 34,
     "output_extras": [
      {
       "item_id": 1
      }
     ]
    },
    "colab_type": "code",
    "executionInfo": {
     "elapsed": 482,
     "status": "ok",
     "timestamp": 1522137480180,
     "user": {
      "displayName": "Carlos Padrón",
      "photoUrl": "//lh6.googleusercontent.com/-UUNqYpxzZzI/AAAAAAAAAAI/AAAAAAAAAJ4/3lCXN-PU3UY/s50-c-k-no/photo.jpg",
      "userId": "116143522284210031217"
     },
     "user_tz": -60
    },
    "id": "l5z-WeChawk7",
    "outputId": "47c2f988-797e-40aa-d276-669306a1e710"
   },
   "outputs": [
    {
     "name": "stdout",
     "output_type": "stream",
     "text": [
      "[1985, 1986, 1987, 1988, 1989, 1990, 1991, 1992, 1993, 1994, 1995, 1996, 1997, 1998, 1999, 2000, 2001, 2002, 2003, 2004, 2005, 2006, 2007, 2008, 2009, 2010, 2011, 2012, 2013, 2014, 2015, 2016]\n"
     ]
    }
   ],
   "source": [
    "#Store and print a list of all the years in your lifetime.\n",
    "years = list(range(1985,2017))\n",
    "print(years)"
   ]
  },
  {
   "cell_type": "code",
   "execution_count": 7,
   "metadata": {
    "colab": {
     "autoexec": {
      "startup": false,
      "wait_interval": 0
     },
     "base_uri": "https://localhost:8080/",
     "height": 34,
     "output_extras": [
      {
       "item_id": 1
      }
     ]
    },
    "colab_type": "code",
    "executionInfo": {
     "elapsed": 432,
     "status": "ok",
     "timestamp": 1522137485185,
     "user": {
      "displayName": "Carlos Padrón",
      "photoUrl": "//lh6.googleusercontent.com/-UUNqYpxzZzI/AAAAAAAAAAI/AAAAAAAAAJ4/3lCXN-PU3UY/s50-c-k-no/photo.jpg",
      "userId": "116143522284210031217"
     },
     "user_tz": -60
    },
    "id": "k9aFZJ-4ayJk",
    "outputId": "512b9005-abb4-4922-c787-f8fa6ae3adc6"
   },
   "outputs": [
    {
     "name": "stdout",
     "output_type": "stream",
     "text": [
      "[1988, 1992, 1996, 2000, 2004, 2008, 2012, 2016]\n"
     ]
    }
   ],
   "source": [
    "#Store and print a list of all the leap years in your lifetime.\n",
    "leapYears = list(range(1988,2017,4))\n",
    "print(leapYears)"
   ]
  },
  {
   "cell_type": "code",
   "execution_count": 10,
   "metadata": {
    "colab": {
     "autoexec": {
      "startup": false,
      "wait_interval": 0
     },
     "base_uri": "https://localhost:8080/",
     "height": 34,
     "output_extras": [
      {
       "item_id": 1
      }
     ]
    },
    "colab_type": "code",
    "executionInfo": {
     "elapsed": 482,
     "status": "ok",
     "timestamp": 1522137585373,
     "user": {
      "displayName": "Carlos Padrón",
      "photoUrl": "//lh6.googleusercontent.com/-UUNqYpxzZzI/AAAAAAAAAAI/AAAAAAAAAJ4/3lCXN-PU3UY/s50-c-k-no/photo.jpg",
      "userId": "116143522284210031217"
     },
     "user_tz": -60
    },
    "id": "1oEozBVkazXz",
    "outputId": "1bdbad17-3305-457c-b51e-d1ec8e349b16"
   },
   "outputs": [
    {
     "name": "stdout",
     "output_type": "stream",
     "text": [
      "[2000, 2004, 2008]\n"
     ]
    }
   ],
   "source": [
    "#Select all the leap years between 2000 and 2010 from this list and store \n",
    "#separately.\n",
    "leapYearsSelection = [i for i in leapYears if (i>=2000 and i<=2010)]\n",
    "print(leapYearsSelection)"
   ]
  },
  {
   "cell_type": "code",
   "execution_count": 12,
   "metadata": {
    "colab": {
     "autoexec": {
      "startup": false,
      "wait_interval": 0
     },
     "base_uri": "https://localhost:8080/",
     "height": 34,
     "output_extras": [
      {
       "item_id": 1
      }
     ]
    },
    "colab_type": "code",
    "executionInfo": {
     "elapsed": 744,
     "status": "ok",
     "timestamp": 1522137725854,
     "user": {
      "displayName": "Carlos Padrón",
      "photoUrl": "//lh6.googleusercontent.com/-UUNqYpxzZzI/AAAAAAAAAAI/AAAAAAAAAJ4/3lCXN-PU3UY/s50-c-k-no/photo.jpg",
      "userId": "116143522284210031217"
     },
     "user_tz": -60
    },
    "id": "wSUjZW_sa9-b",
    "outputId": "80544acb-dd4c-4319-ba37-e26d46bc811f"
   },
   "outputs": [
    {
     "name": "stdout",
     "output_type": "stream",
     "text": [
      "['Carlos', 'Carlos', 'Carlos', 'Carlos', 'Carlos', 'Carlos', 'Carlos', 'Carlos', 'Carlos', 'Carlos']\n"
     ]
    }
   ],
   "source": [
    "#Use a for loop to print your name 10 times.\n",
    "xnames = [\"Carlos\" for i in range(0,10)]\n",
    "print(xnames)"
   ]
  },
  {
   "cell_type": "code",
   "execution_count": 13,
   "metadata": {
    "colab": {
     "autoexec": {
      "startup": false,
      "wait_interval": 0
     },
     "base_uri": "https://localhost:8080/",
     "height": 34,
     "output_extras": [
      {
       "item_id": 1
      }
     ]
    },
    "colab_type": "code",
    "executionInfo": {
     "elapsed": 462,
     "status": "ok",
     "timestamp": 1522137772064,
     "user": {
      "displayName": "Carlos Padrón",
      "photoUrl": "//lh6.googleusercontent.com/-UUNqYpxzZzI/AAAAAAAAAAI/AAAAAAAAAJ4/3lCXN-PU3UY/s50-c-k-no/photo.jpg",
      "userId": "116143522284210031217"
     },
     "user_tz": -60
    },
    "id": "yLQEcVjta_ob",
    "outputId": "3338c085-5353-4986-91b5-5fce97ecd7c7"
   },
   "outputs": [
    {
     "name": "stdout",
     "output_type": "stream",
     "text": [
      "[3970, 3972, 3974, 3976, 3978, 3980, 3982, 3984, 3986, 3988, 3990, 3992, 3994, 3996, 3998, 4000, 4002, 4004, 4006, 4008, 4010, 4012, 4014, 4016, 4018, 4020, 4022, 4024, 4026, 4028, 4030, 4032]\n"
     ]
    }
   ],
   "source": [
    "#Use a for loop (and the list you created in question 2) to print double the \n",
    "#value of each of the years in your lifetime.\n",
    "xyears = [i*2 for i in years]\n",
    "print(xyears)"
   ]
  },
  {
   "cell_type": "code",
   "execution_count": 14,
   "metadata": {
    "colab": {
     "autoexec": {
      "startup": false,
      "wait_interval": 0
     },
     "base_uri": "https://localhost:8080/",
     "height": 34,
     "output_extras": [
      {
       "item_id": 1
      }
     ]
    },
    "colab_type": "code",
    "executionInfo": {
     "elapsed": 481,
     "status": "ok",
     "timestamp": 1522137790467,
     "user": {
      "displayName": "Carlos Padrón",
      "photoUrl": "//lh6.googleusercontent.com/-UUNqYpxzZzI/AAAAAAAAAAI/AAAAAAAAAJ4/3lCXN-PU3UY/s50-c-k-no/photo.jpg",
      "userId": "116143522284210031217"
     },
     "user_tz": -60
    },
    "id": "X35kZjONbBEE",
    "outputId": "ac2f8b10-e961-4059-be7c-dacae780bca8"
   },
   "outputs": [
    {
     "name": "stdout",
     "output_type": "stream",
     "text": [
      "[1984, 1988, 1992, 1996, 2000, 2004, 2008, 2012, 2016, 2020]\n"
     ]
    }
   ],
   "source": [
    "#Extend your list of leap years by adding the previous and next leap years.\n",
    "leapYears.insert(0,leapYears[0]-4)\n",
    "leapYears.append(leapYears[-1]+4)\n",
    "print(leapYears)"
   ]
  },
  {
   "cell_type": "code",
   "execution_count": 15,
   "metadata": {
    "colab": {
     "autoexec": {
      "startup": false,
      "wait_interval": 0
     },
     "base_uri": "https://localhost:8080/",
     "height": 34,
     "output_extras": [
      {
       "item_id": 1
      }
     ]
    },
    "colab_type": "code",
    "executionInfo": {
     "elapsed": 542,
     "status": "ok",
     "timestamp": 1522137798895,
     "user": {
      "displayName": "Carlos Padrón",
      "photoUrl": "//lh6.googleusercontent.com/-UUNqYpxzZzI/AAAAAAAAAAI/AAAAAAAAAJ4/3lCXN-PU3UY/s50-c-k-no/photo.jpg",
      "userId": "116143522284210031217"
     },
     "user_tz": -60
    },
    "id": "VjpIp9-mbCsR",
    "outputId": "3fcb8174-b180-4f65-98d4-4600ba56cb97"
   },
   "outputs": [
    {
     "name": "stdout",
     "output_type": "stream",
     "text": [
      "[1984, 1988, 1992, 1996]\n"
     ]
    }
   ],
   "source": [
    "#Remove all years containing a zero from the list.\n",
    "leapYears = [ i for i in leapYears if '0' not in str(i)]\n",
    "print(leapYears)"
   ]
  },
  {
   "cell_type": "code",
   "execution_count": 16,
   "metadata": {
    "colab": {
     "autoexec": {
      "startup": false,
      "wait_interval": 0
     },
     "base_uri": "https://localhost:8080/",
     "height": 34,
     "output_extras": [
      {
       "item_id": 1
      }
     ]
    },
    "colab_type": "code",
    "executionInfo": {
     "elapsed": 502,
     "status": "ok",
     "timestamp": 1522137906453,
     "user": {
      "displayName": "Carlos Padrón",
      "photoUrl": "//lh6.googleusercontent.com/-UUNqYpxzZzI/AAAAAAAAAAI/AAAAAAAAAJ4/3lCXN-PU3UY/s50-c-k-no/photo.jpg",
      "userId": "116143522284210031217"
     },
     "user_tz": -60
    },
    "id": "4IXprzKwbD8y",
    "outputId": "663d5153-9b51-4f6d-eb16-fb489e0b8332"
   },
   "outputs": [
    {
     "name": "stdout",
     "output_type": "stream",
     "text": [
      "['carlos', 'carlos', 'carlos', 'carlos', 'carlos', 'carlos', 'carlos', 'carlos', 'carlos', 'carlos', 'carlos', 'carlos', 'carlos', 'carlos', 'carlos']\n"
     ]
    }
   ],
   "source": [
    "#Use a comprehension to create a list containing 15 repetitions of your name.\n",
    "nameList = ['carlos' for i in range(0,15)]\n",
    "print(nameList)"
   ]
  },
  {
   "cell_type": "code",
   "execution_count": 17,
   "metadata": {
    "colab": {
     "autoexec": {
      "startup": false,
      "wait_interval": 0
     },
     "base_uri": "https://localhost:8080/",
     "height": 34,
     "output_extras": [
      {
       "item_id": 1
      }
     ]
    },
    "colab_type": "code",
    "executionInfo": {
     "elapsed": 482,
     "status": "ok",
     "timestamp": 1522137930650,
     "user": {
      "displayName": "Carlos Padrón",
      "photoUrl": "//lh6.googleusercontent.com/-UUNqYpxzZzI/AAAAAAAAAAI/AAAAAAAAAJ4/3lCXN-PU3UY/s50-c-k-no/photo.jpg",
      "userId": "116143522284210031217"
     },
     "user_tz": -60
    },
    "id": "y9vj5U0TbJTS",
    "outputId": "fcf648cf-a3d1-4f31-cea7-f537dbcc3fa8"
   },
   "outputs": [
    {
     "name": "stdout",
     "output_type": "stream",
     "text": [
      "[3, 5, 7, 9, 11, 13, 15, 17, 19, 21]\n"
     ]
    }
   ],
   "source": [
    "#Use a comprehension to create a list of the sums of all consecutive \n",
    "#numbers from 1 to 10 (i.e. 1+2, 2+3, …).\n",
    "consecutiveSum = [i+i+1 for i in range(1,11)]\n",
    "print(consecutiveSum)"
   ]
  },
  {
   "cell_type": "markdown",
   "metadata": {},
   "source": [
    "## Map"
   ]
  },
  {
   "cell_type": "code",
   "execution_count": null,
   "metadata": {},
   "outputs": [],
   "source": [
    "#read geometry written in well-known text\n",
    "from shapely.wkt import dumps, loads\n",
    "geometry = [wkt.loads(i) for i in other_map[\"geometry\"]]\n",
    "\n",
    "\n",
    "#read geometry written in well-known binary or hex\n",
    "from shapely.wkb import loads\n",
    "geometry = [loads(i, hex=True) for i in lr_poly]\n",
    "\n",
    "#creates geodataframe\n",
    "geopandas_db = gpd.GeoDataFrame(map1, crs = {'init': 'epsg:4326'}, geometry = geometry)"
   ]
  },
  {
   "cell_type": "code",
   "execution_count": null,
   "metadata": {},
   "outputs": [],
   "source": [
    "#print coordinate reference system\n",
    "print(geopandas_db.crs)"
   ]
  },
  {
   "cell_type": "code",
   "execution_count": null,
   "metadata": {},
   "outputs": [],
   "source": [
    "geopandas_db.to_file(\"sites.shp\", driver = 'ESRI Shapefile')"
   ]
  },
  {
   "cell_type": "code",
   "execution_count": null,
   "metadata": {},
   "outputs": [],
   "source": [
    "#obtain la_bd centroids\n",
    "centroids = la_bd[\"geometry\"].centroid\n",
    "la_bd2 = la_bd.copy()\n",
    "la_bd2 = la_bd2.assign(la_geom = la_bd2[\"geometry\"])\n",
    "la_bd2 = la_bd2.assign(geometry = centroids)\n",
    "\n",
    "#match centroids with fua areas\n",
    "fua_map = fua_map.assign(fua_geom = fua_map[\"geometry\"])\n",
    "la_bd3 = gpd.sjoin(la_bd2, fua_map, how=\"left\", op='intersects')\n",
    "\n",
    "#creates merged columns (names and geometries) with fua if available or la if not\n",
    "la_bd3 = la_bd3.assign(\n",
    "    merged_nm = np.where(la_bd3[\"uafua16nm\"].isna(), la_bd3[\"cmlad11nm\"], la_bd3[\"uafua16nm\"]),\n",
    "    merged_geom = np.where(la_bd3[\"uafua16nm\"].isna(), la_bd3[\"la_geom\"], la_bd3[\"fua_geom\"]))\n",
    "\n",
    "la_bd3\n",
    "\n"
   ]
  },
  {
   "cell_type": "code",
   "execution_count": null,
   "metadata": {},
   "outputs": [],
   "source": [
    "#extract all nodes from edges\n",
    "x = [j for i in edges['the_geom'].to_crs(epsg=27700) for j in i.xy[0]]\n",
    "y = [j for i in edges['the_geom'].to_crs(epsg=27700) for j in i.xy[1]]"
   ]
  },
  {
   "cell_type": "markdown",
   "metadata": {},
   "source": [
    "## Math"
   ]
  },
  {
   "cell_type": "code",
   "execution_count": 9,
   "metadata": {
    "colab": {
     "autoexec": {
      "startup": false,
      "wait_interval": 0
     },
     "base_uri": "https://localhost:8080/",
     "height": 34,
     "output_extras": [
      {
       "item_id": 1
      }
     ]
    },
    "colab_type": "code",
    "executionInfo": {
     "elapsed": 582,
     "status": "ok",
     "timestamp": 1522137261238,
     "user": {
      "displayName": "Carlos Padrón",
      "photoUrl": "//lh6.googleusercontent.com/-UUNqYpxzZzI/AAAAAAAAAAI/AAAAAAAAAJ4/3lCXN-PU3UY/s50-c-k-no/photo.jpg",
      "userId": "116143522284210031217"
     },
     "user_tz": -60
    },
    "id": "gLGacdcyaut-",
    "outputId": "90e5b24c-be41-49e4-d94b-f3404a0a5526"
   },
   "outputs": [
    {
     "name": "stdout",
     "output_type": "stream",
     "text": [
      "289406.25\n"
     ]
    }
   ],
   "source": [
    "#Calculate the value of ((100 + 5)^3)/(4*1).\n",
    "print(((100+5)**3.0)/(4.0*1))"
   ]
  },
  {
   "cell_type": "markdown",
   "metadata": {},
   "source": [
    "## Miscellaneous"
   ]
  },
  {
   "cell_type": "code",
   "execution_count": 2,
   "metadata": {
    "collapsed": true
   },
   "outputs": [],
   "source": [
    "#shebang. Required for scripts\n",
    "#!/usr/bin/env python3"
   ]
  },
  {
   "cell_type": "code",
   "execution_count": null,
   "metadata": {
    "collapsed": true
   },
   "outputs": [],
   "source": [
    "#multiple assingmen of variables\n",
    "a, b = [1, 2]\n",
    "a, b = 1, 2"
   ]
  },
  {
   "cell_type": "markdown",
   "metadata": {},
   "source": [
    "## PIP"
   ]
  },
  {
   "cell_type": "markdown",
   "metadata": {},
   "source": [
    "TO BE RUN ON TERMINAL\n",
    "\n",
    "#install as user\n",
    "pip3 install x --user"
   ]
  },
  {
   "cell_type": "markdown",
   "metadata": {
    "colab_type": "text",
    "id": "vzUt-vaThhe4"
   },
   "source": [
    "## Plots"
   ]
  },
  {
   "cell_type": "code",
   "execution_count": 5,
   "metadata": {
    "colab": {
     "autoexec": {
      "startup": false,
      "wait_interval": 0
     },
     "base_uri": "https://localhost:8080/",
     "height": 364,
     "output_extras": [
      {
       "item_id": 1
      },
      {
       "item_id": 2
      }
     ]
    },
    "colab_type": "code",
    "executionInfo": {
     "elapsed": 669,
     "status": "ok",
     "timestamp": 1522138570535,
     "user": {
      "displayName": "Carlos Padrón",
      "photoUrl": "//lh6.googleusercontent.com/-UUNqYpxzZzI/AAAAAAAAAAI/AAAAAAAAAJ4/3lCXN-PU3UY/s50-c-k-no/photo.jpg",
      "userId": "116143522284210031217"
     },
     "user_tz": -60
    },
    "id": "bxsGjvXubs4H",
    "outputId": "f9270935-8332-484a-ea5d-49d03b778581"
   },
   "outputs": [
    {
     "data": {
      "image/png": "[encoded data removed]",
      "text/plain": [
       "<matplotlib.figure.Figure at 0x7f5b6cfa7630>"
      ]
     },
     "metadata": {},
     "output_type": "display_data"
    }
   ],
   "source": [
    "#Display a simple plot of X against Y.\n",
    "plt.plot(x,y)\n",
    "plt.show()"
   ]
  },
  {
   "cell_type": "code",
   "execution_count": null,
   "metadata": {
    "collapsed": true
   },
   "outputs": [],
   "source": [
    "#show points from dataframe\n",
    "fig, ax = plt.subplots()\n",
    "ax.plot(data2[\"lon\"], data2[\"lat\"], 'ro')\n",
    "plt.show()\n",
    "plt.close()"
   ]
  },
  {
   "cell_type": "code",
   "execution_count": null,
   "metadata": {
    "collapsed": true
   },
   "outputs": [],
   "source": [
    "#show all points by average speed\n",
    "fig, ax = plt.subplots()\n",
    "minv = 0\n",
    "maxv = data2[\"avgSpeed\"].quantile(.95)\n",
    "norm = mpl.colors.Normalize(vmin =  minv, vmax = maxv)\n",
    "ax.scatter(data2[\"lon\"],\n",
    "           data2[\"lat\"],\n",
    "           norm = norm,\n",
    "           c = data2[\"avgSpeed\"],\n",
    "           cmap = plt.get_cmap(\"Reds\"),\n",
    "           edgecolors='none')\n",
    "plt.show()\n",
    "plt.close()"
   ]
  },
  {
   "cell_type": "code",
   "execution_count": null,
   "metadata": {
    "collapsed": true
   },
   "outputs": [],
   "source": [
    "#creates animation\n",
    "\n",
    "#variables\n",
    "date = data2[\"date\"].sort_values().unique()\n",
    "minv = 0\n",
    "maxv = data2[\"avgSpeed\"].quantile(.99)\n",
    "tempData = data2\n",
    "tempData[\"color\"] = np.where(data2[\"avgSpeed\"] < maxv, data2[\"avgSpeed\"], maxv)\n",
    "tempData[\"color\"] = (((tempData[\"color\"] * 1) / maxv) - 1) * (-1)\n",
    "\n",
    "#prepares plot\n",
    "fig, ax = plt.subplots()\n",
    "plt.set_cmap(\"Reds\")\n",
    "norm = mpl.colors.Normalize(vmin =  minv, vmax = maxv)\n",
    "scatter = ax.scatter(x = [],\n",
    "                     y = [],\n",
    "                     c = [],\n",
    "                     cmap = plt.get_cmap(\"Reds\"),\n",
    "                     edgecolors='none',\n",
    "                     animated = True)\n",
    "\n",
    "def init():\n",
    "    ax.set_xlim([data2[\"lon\"].min(), data2[\"lon\"].max()])\n",
    "    ax.set_ylim([data2[\"lat\"].min(), data2[\"lat\"].max()])\n",
    "    return scatter\n",
    "\n",
    "def update(frame):\n",
    "    color = [[i, 0, 0, 1] for i in data2[data2[\"date\"] == date[frame]][\"color\"].as_matrix()]\n",
    "    scatter.set_offsets(data2[data2[\"date\"] == date[frame]][[\"lon\", \"lat\"]].as_matrix())                                                    \n",
    "    scatter.set_facecolor(color)\n",
    "\n",
    "ani = FuncAnimation(fig, update, init_func = init, frames = len(dates))\n",
    "HTML(ani.to_html5_video())\n",
    "\n",
    "#ani = FuncAnimation(fig, update, frames = len(dates), blit=True)\n",
    "#ani.save('im.mp4')\n",
    "#plt.close()"
   ]
  },
  {
   "cell_type": "markdown",
   "metadata": {},
   "source": [
    "## Ramdon numbers"
   ]
  },
  {
   "cell_type": "code",
   "execution_count": 2,
   "metadata": {
    "colab": {
     "autoexec": {
      "startup": false,
      "wait_interval": 0
     },
     "base_uri": "https://localhost:8080/",
     "height": 34,
     "output_extras": [
      {
       "item_id": 1
      }
     ]
    },
    "colab_type": "code",
    "executionInfo": {
     "elapsed": 530,
     "status": "ok",
     "timestamp": 1522138231949,
     "user": {
      "displayName": "Carlos Padrón",
      "photoUrl": "//lh6.googleusercontent.com/-UUNqYpxzZzI/AAAAAAAAAAI/AAAAAAAAAJ4/3lCXN-PU3UY/s50-c-k-no/photo.jpg",
      "userId": "116143522284210031217"
     },
     "user_tz": -60
    },
    "id": "u2wwuRhZbgAT",
    "outputId": "220e7225-9e12-4179-af4f-5bcebebde5ad"
   },
   "outputs": [
    {
     "name": "stdout",
     "output_type": "stream",
     "text": [
      "[14, 8, 5, 15, 3, 3, 6, 5, 15, 11]\n"
     ]
    }
   ],
   "source": [
    "import random as rd\n",
    "\n",
    "#Use a comprehension to create a list of 10 random integers between 1 and 20.\n",
    "randList = [rd.randint(1, 20) for i in range(10)]\n",
    "print(randList)"
   ]
  },
  {
   "cell_type": "code",
   "execution_count": 6,
   "metadata": {
    "colab": {
     "autoexec": {
      "startup": false,
      "wait_interval": 0
     },
     "base_uri": "https://localhost:8080/",
     "height": 51,
     "output_extras": [
      {
       "item_id": 1
      }
     ]
    },
    "colab_type": "code",
    "executionInfo": {
     "elapsed": 481,
     "status": "ok",
     "timestamp": 1522138544680,
     "user": {
      "displayName": "Carlos Padrón",
      "photoUrl": "//lh6.googleusercontent.com/-UUNqYpxzZzI/AAAAAAAAAAI/AAAAAAAAAJ4/3lCXN-PU3UY/s50-c-k-no/photo.jpg",
      "userId": "116143522284210031217"
     },
     "user_tz": -60
    },
    "id": "7zSmydW7bs0v",
    "outputId": "5248c819-37c0-40fd-95a5-157ccf8deeec",
    "scrolled": true
   },
   "outputs": [
    {
     "name": "stdout",
     "output_type": "stream",
     "text": [
      "[0.7441479865630132, 0.47492776533632686, 0.16775698096873426, 0.9400889808193685, 0.4379318771876204, 0.47020976653318036, 0.6394298601032234, 0.05950144838288318, 0.23886718159877052, 0.8139927871474957]\n",
      "[0.3744185276177284, 0.08502390360759726, 0.16155839313983467, 0.8449553114976938, 0.3629416750031814, 0.8597052334785185, 0.4817348436278982, 0.9485745387635349, 0.1674844619916872, 0.3043729965340025]\n"
     ]
    }
   ],
   "source": [
    "import random as rd\n",
    "\n",
    "#Create two lists (X and Y), each containing ten random numbers between 0 \n",
    "#and 1.\n",
    "x = [rd.random() for i in range(10)]\n",
    "y = [rd.random() for i in range(10)]\n",
    "print(x)\n",
    "print(y)"
   ]
  },
  {
   "cell_type": "code",
   "execution_count": 8,
   "metadata": {},
   "outputs": [
    {
     "data": {
      "text/plain": [
       "array([[0.54314047, 0.05049364, 0.85190423],\n",
       "       [0.57134945, 0.60756088, 0.15443788],\n",
       "       [0.50593406, 0.63373257, 0.98083941],\n",
       "       [0.21331377, 0.26092451, 0.30646269],\n",
       "       [0.0671582 , 0.28583692, 0.66597105]])"
      ]
     },
     "execution_count": 8,
     "metadata": {},
     "output_type": "execute_result"
    }
   ],
   "source": [
    "import random as rd\n",
    "\n",
    "#randon uniform distribution\n",
    "np.random.uniform(0, 1, (5, 3))"
   ]
  },
  {
   "cell_type": "markdown",
   "metadata": {},
   "source": [
    "## VirtualEnv"
   ]
  },
  {
   "cell_type": "markdown",
   "metadata": {},
   "source": [
    "TO BE RUN ON TERMINAL\n",
    "\n",
    "##create virtual environment\n",
    "#python3 -m venv --copies /home/carlos/Dropbox/virtualEnv/tesis/\n",
    "\n",
    "##activate\n",
    "#source /home/carlos/Dropbox/virtualEnv/tesis/bin/activate\n",
    "\n",
    "##deactivate\n",
    "#deactivate\n",
    "\n",
    "##check path\n",
    "#which python\n",
    "#which pip3\n",
    "#which jupyter\n",
    "\n",
    "##install jupyter and other lib\n",
    "#pip3 install jupyter\n",
    "#jupyter notebook"
   ]
  },
  {
   "cell_type": "code",
   "execution_count": null,
   "metadata": {
    "collapsed": true
   },
   "outputs": [],
   "source": [
    "#check path, should be within virtual env\n",
    "import sys\n",
    "sys.path"
   ]
  },
  {
   "cell_type": "markdown",
   "metadata": {},
   "source": [
    "## to reubicate"
   ]
  }
 ],
 "metadata": {
  "colab": {
   "collapsed_sections": [],
   "default_view": {},
   "name": "python.ipynb",
   "provenance": [],
   "version": "0.3.2",
   "views": {}
  },
  "kernelspec": {
   "display_name": "Python 3",
   "language": "python",
   "name": "python3"
  },
  "language_info": {
   "codemirror_mode": {
    "name": "ipython",
    "version": 3
   },
   "file_extension": ".py",
   "mimetype": "text/x-python",
   "name": "python",
   "nbconvert_exporter": "python",
   "pygments_lexer": "ipython3",
   "version": "3.6.7"
  }
 },
 "nbformat": 4,
 "nbformat_minor": 2
}
