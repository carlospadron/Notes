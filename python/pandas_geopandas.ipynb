{
 "cells": [
  {
   "cell_type": "code",
   "execution_count": 1,
   "metadata": {},
   "outputs": [],
   "source": [
    "import pandas as pd"
   ]
  },
  {
   "cell_type": "markdown",
   "metadata": {},
   "source": [
    "# Databases"
   ]
  },
  {
   "cell_type": "markdown",
   "metadata": {},
   "source": [
    "## psycopg2 and geopandas"
   ]
  },
  {
   "cell_type": "code",
   "execution_count": 3,
   "metadata": {},
   "outputs": [],
   "source": [
    "from sqlalchemy import create_engine, text\n",
    "import geopandas as gpd\n",
    "import json\n",
    "import getpass\n",
    "from urllib.parse import quote_plus\n",
    "%matplotlib inline\n",
    "\n",
    "config = json.load(open(f'/home/{getpass.getuser()}/onedrive/config.json'))\n",
    "db_user = config['db_user']\n",
    "db_password = quote_plus(config['db_password'])\n",
    "db_address = config['db_address']\n",
    "engine = create_engine(f'postgresql://{db_user}:{db_password}@{db_address}/gis')"
   ]
  },
  {
   "cell_type": "code",
   "execution_count": 4,
   "metadata": {},
   "outputs": [
    {
     "data": {
      "text/plain": [
       "<Axes: >"
      ]
     },
     "execution_count": 4,
     "metadata": {},
     "output_type": "execute_result"
    },
    {
     "data": {
      "image/png": "[encoded data removed]",
      "text/plain": [
       "<Figure size 640x480 with 1 Axes>"
      ]
     },
     "metadata": {},
     "output_type": "display_data"
    }
   ],
   "source": [
    "#create polygons\n",
    "sql = \"\"\"\n",
    "    SELECT \n",
    "        ST_MakeBox2D(ST_Point(0,0), ST_Point(10,10))::geometry AS geom, \n",
    "        1 AS color \n",
    "    UNION \n",
    "    SELECT \n",
    "        ST_MakeBox2D(ST_Point(9,9), ST_Point(19,19))::geometry AS geom, \n",
    "        2 AS color\n",
    "\"\"\"\n",
    "df = gpd.GeoDataFrame.from_postgis(sql, engine, geom_col='geom')\n",
    "df.plot(column='color')"
   ]
  },
  {
   "cell_type": "code",
   "execution_count": 8,
   "metadata": {},
   "outputs": [],
   "source": [
    "\n",
    "#saving to postgis\n",
    "df.set_crs(epsg=27700).to_postgis(\n",
    "    'polygons', \n",
    "    engine, \n",
    "    if_exists='replace', \n",
    "    schema='miscellaneous',\n",
    "    index=False\n",
    ")\n",
    "\n",
    "#remove polygons\n",
    "sql = \"\"\"\n",
    "    DROP TABLE IF EXISTS miscellaneous.polygons\n",
    "\"\"\"\n",
    "with engine.connect() as connection:\n",
    "    result = connection.execute(text(sql))\n",
    "    connection.commit()\n"
   ]
  },
  {
   "cell_type": "markdown",
   "metadata": {},
   "source": [
    "# Dataframes"
   ]
  },
  {
   "cell_type": "markdown",
   "metadata": {},
   "source": [
    "## creating and editing"
   ]
  },
  {
   "cell_type": "code",
   "execution_count": 10,
   "metadata": {},
   "outputs": [
    {
     "data": {
      "text/html": [
       "<div>\n",
       "<style scoped>\n",
       "    .dataframe tbody tr th:only-of-type {\n",
       "        vertical-align: middle;\n",
       "    }\n",
       "\n",
       "    .dataframe tbody tr th {\n",
       "        vertical-align: top;\n",
       "    }\n",
       "\n",
       "    .dataframe thead th {\n",
       "        text-align: right;\n",
       "    }\n",
       "</style>\n",
       "<table border=\"1\" class=\"dataframe\">\n",
       "  <thead>\n",
       "    <tr style=\"text-align: right;\">\n",
       "      <th></th>\n",
       "      <th>col1</th>\n",
       "      <th>col2</th>\n",
       "    </tr>\n",
       "  </thead>\n",
       "  <tbody>\n",
       "    <tr>\n",
       "      <th>0</th>\n",
       "      <td>a</td>\n",
       "      <td>1</td>\n",
       "    </tr>\n",
       "    <tr>\n",
       "      <th>1</th>\n",
       "      <td>b</td>\n",
       "      <td>2</td>\n",
       "    </tr>\n",
       "    <tr>\n",
       "      <th>2</th>\n",
       "      <td>c</td>\n",
       "      <td>3</td>\n",
       "    </tr>\n",
       "    <tr>\n",
       "      <th>3</th>\n",
       "      <td>d</td>\n",
       "      <td>4</td>\n",
       "    </tr>\n",
       "    <tr>\n",
       "      <th>4</th>\n",
       "      <td>e</td>\n",
       "      <td>5</td>\n",
       "    </tr>\n",
       "  </tbody>\n",
       "</table>\n",
       "</div>"
      ],
      "text/plain": [
       "  col1  col2\n",
       "0    a     1\n",
       "1    b     2\n",
       "2    c     3\n",
       "3    d     4\n",
       "4    e     5"
      ]
     },
     "execution_count": 10,
     "metadata": {},
     "output_type": "execute_result"
    }
   ],
   "source": [
    "#Create a dataframe\n",
    "d = {\"col1\" : ['a','b','c','d','e'],\n",
    "     \"col2\" : [1,2,3,4,5]}\n",
    "dataFrame = pd.DataFrame(d)\n",
    "dataFrame"
   ]
  },
  {
   "cell_type": "code",
   "execution_count": 11,
   "metadata": {},
   "outputs": [
    {
     "data": {
      "text/html": [
       "<div>\n",
       "<style scoped>\n",
       "    .dataframe tbody tr th:only-of-type {\n",
       "        vertical-align: middle;\n",
       "    }\n",
       "\n",
       "    .dataframe tbody tr th {\n",
       "        vertical-align: top;\n",
       "    }\n",
       "\n",
       "    .dataframe thead th {\n",
       "        text-align: right;\n",
       "    }\n",
       "</style>\n",
       "<table border=\"1\" class=\"dataframe\">\n",
       "  <thead>\n",
       "    <tr style=\"text-align: right;\">\n",
       "      <th></th>\n",
       "      <th>col1</th>\n",
       "      <th>col2</th>\n",
       "    </tr>\n",
       "  </thead>\n",
       "  <tbody>\n",
       "    <tr>\n",
       "      <th>0</th>\n",
       "      <td>a</td>\n",
       "      <td>1</td>\n",
       "    </tr>\n",
       "    <tr>\n",
       "      <th>1</th>\n",
       "      <td>b</td>\n",
       "      <td>2</td>\n",
       "    </tr>\n",
       "    <tr>\n",
       "      <th>2</th>\n",
       "      <td>c</td>\n",
       "      <td>3</td>\n",
       "    </tr>\n",
       "    <tr>\n",
       "      <th>3</th>\n",
       "      <td>d</td>\n",
       "      <td>4</td>\n",
       "    </tr>\n",
       "    <tr>\n",
       "      <th>4</th>\n",
       "      <td>e</td>\n",
       "      <td>5</td>\n",
       "    </tr>\n",
       "    <tr>\n",
       "      <th>5</th>\n",
       "      <td>f</td>\n",
       "      <td>6</td>\n",
       "    </tr>\n",
       "  </tbody>\n",
       "</table>\n",
       "</div>"
      ],
      "text/plain": [
       "  col1  col2\n",
       "0    a     1\n",
       "1    b     2\n",
       "2    c     3\n",
       "3    d     4\n",
       "4    e     5\n",
       "5    f     6"
      ]
     },
     "execution_count": 11,
     "metadata": {},
     "output_type": "execute_result"
    }
   ],
   "source": [
    "#add new row\n",
    "row = pd.DataFrame({\"col1\" : [\"f\"], \"col2\" : [6]})\n",
    "dataFrame = pd.concat([dataFrame, row], ignore_index=True)\n",
    "dataFrame"
   ]
  },
  {
   "cell_type": "code",
   "execution_count": 12,
   "metadata": {},
   "outputs": [
    {
     "data": {
      "text/html": [
       "<div>\n",
       "<style scoped>\n",
       "    .dataframe tbody tr th:only-of-type {\n",
       "        vertical-align: middle;\n",
       "    }\n",
       "\n",
       "    .dataframe tbody tr th {\n",
       "        vertical-align: top;\n",
       "    }\n",
       "\n",
       "    .dataframe thead th {\n",
       "        text-align: right;\n",
       "    }\n",
       "</style>\n",
       "<table border=\"1\" class=\"dataframe\">\n",
       "  <thead>\n",
       "    <tr style=\"text-align: right;\">\n",
       "      <th></th>\n",
       "      <th>col1</th>\n",
       "      <th>col2</th>\n",
       "      <th>col3</th>\n",
       "    </tr>\n",
       "  </thead>\n",
       "  <tbody>\n",
       "    <tr>\n",
       "      <th>0</th>\n",
       "      <td>a</td>\n",
       "      <td>1</td>\n",
       "      <td>f</td>\n",
       "    </tr>\n",
       "    <tr>\n",
       "      <th>1</th>\n",
       "      <td>b</td>\n",
       "      <td>1</td>\n",
       "      <td>f</td>\n",
       "    </tr>\n",
       "    <tr>\n",
       "      <th>2</th>\n",
       "      <td>c</td>\n",
       "      <td>1</td>\n",
       "      <td>f</td>\n",
       "    </tr>\n",
       "    <tr>\n",
       "      <th>3</th>\n",
       "      <td>d</td>\n",
       "      <td>1</td>\n",
       "      <td>f</td>\n",
       "    </tr>\n",
       "    <tr>\n",
       "      <th>4</th>\n",
       "      <td>e</td>\n",
       "      <td>1</td>\n",
       "      <td>f</td>\n",
       "    </tr>\n",
       "  </tbody>\n",
       "</table>\n",
       "</div>"
      ],
      "text/plain": [
       "  col1  col2 col3\n",
       "0    a     1    f\n",
       "1    b     1    f\n",
       "2    c     1    f\n",
       "3    d     1    f\n",
       "4    e     1    f"
      ]
     },
     "execution_count": 12,
     "metadata": {},
     "output_type": "execute_result"
    }
   ],
   "source": [
    "#broadcasting a value. At least one column must be a Series or a list, otherwise it requires an index \n",
    "#it doesn't matter the position of the list. Could be the first or any other column.\n",
    "\n",
    "d = {\"col1\" : ['a','b','c','d','e'],\n",
    "     \"col2\" : 1,\n",
    "     \"col3\" : \"f\"}\n",
    "dataFrame = pd.DataFrame(d)\n",
    "dataFrame"
   ]
  },
  {
   "cell_type": "code",
   "execution_count": 13,
   "metadata": {},
   "outputs": [
    {
     "data": {
      "text/html": [
       "<div>\n",
       "<style scoped>\n",
       "    .dataframe tbody tr th:only-of-type {\n",
       "        vertical-align: middle;\n",
       "    }\n",
       "\n",
       "    .dataframe tbody tr th {\n",
       "        vertical-align: top;\n",
       "    }\n",
       "\n",
       "    .dataframe thead th {\n",
       "        text-align: right;\n",
       "    }\n",
       "</style>\n",
       "<table border=\"1\" class=\"dataframe\">\n",
       "  <thead>\n",
       "    <tr style=\"text-align: right;\">\n",
       "      <th></th>\n",
       "      <th>col1</th>\n",
       "      <th>col2</th>\n",
       "      <th>col3</th>\n",
       "      <th>new</th>\n",
       "    </tr>\n",
       "  </thead>\n",
       "  <tbody>\n",
       "    <tr>\n",
       "      <th>0</th>\n",
       "      <td>a</td>\n",
       "      <td>1</td>\n",
       "      <td>f</td>\n",
       "      <td>1</td>\n",
       "    </tr>\n",
       "    <tr>\n",
       "      <th>1</th>\n",
       "      <td>b</td>\n",
       "      <td>1</td>\n",
       "      <td>f</td>\n",
       "      <td>2</td>\n",
       "    </tr>\n",
       "    <tr>\n",
       "      <th>2</th>\n",
       "      <td>c</td>\n",
       "      <td>1</td>\n",
       "      <td>f</td>\n",
       "      <td>3</td>\n",
       "    </tr>\n",
       "    <tr>\n",
       "      <th>3</th>\n",
       "      <td>d</td>\n",
       "      <td>1</td>\n",
       "      <td>f</td>\n",
       "      <td>4</td>\n",
       "    </tr>\n",
       "    <tr>\n",
       "      <th>4</th>\n",
       "      <td>e</td>\n",
       "      <td>1</td>\n",
       "      <td>f</td>\n",
       "      <td>5</td>\n",
       "    </tr>\n",
       "  </tbody>\n",
       "</table>\n",
       "</div>"
      ],
      "text/plain": [
       "  col1  col2 col3  new\n",
       "0    a     1    f    1\n",
       "1    b     1    f    2\n",
       "2    c     1    f    3\n",
       "3    d     1    f    4\n",
       "4    e     1    f    5"
      ]
     },
     "execution_count": 13,
     "metadata": {},
     "output_type": "execute_result"
    }
   ],
   "source": [
    "#add new column.\n",
    "#WARNING: if instead of a list a Series is passed, the assign function will match the indexes, in order words, the \n",
    "#series will be sorted. SEE BELOW\n",
    "\n",
    "d = {\"col1\" : ['a','b','c','d','e'],\n",
    "     \"col2\" : 1,\n",
    "     \"col3\" : \"f\"}\n",
    "df = pd.DataFrame(d)\n",
    "df = df.assign(new = [1,2,3,4,5])\n",
    "\n",
    "df"
   ]
  },
  {
   "cell_type": "code",
   "execution_count": 18,
   "metadata": {},
   "outputs": [
    {
     "data": {
      "text/html": [
       "<div>\n",
       "<style scoped>\n",
       "    .dataframe tbody tr th:only-of-type {\n",
       "        vertical-align: middle;\n",
       "    }\n",
       "\n",
       "    .dataframe tbody tr th {\n",
       "        vertical-align: top;\n",
       "    }\n",
       "\n",
       "    .dataframe thead th {\n",
       "        text-align: right;\n",
       "    }\n",
       "</style>\n",
       "<table border=\"1\" class=\"dataframe\">\n",
       "  <thead>\n",
       "    <tr style=\"text-align: right;\">\n",
       "      <th></th>\n",
       "      <th>col1</th>\n",
       "      <th>col2</th>\n",
       "      <th>col3</th>\n",
       "      <th>new</th>\n",
       "    </tr>\n",
       "  </thead>\n",
       "  <tbody>\n",
       "    <tr>\n",
       "      <th>0</th>\n",
       "      <td>a</td>\n",
       "      <td>1</td>\n",
       "      <td>f</td>\n",
       "      <td>5</td>\n",
       "    </tr>\n",
       "    <tr>\n",
       "      <th>1</th>\n",
       "      <td>b</td>\n",
       "      <td>1</td>\n",
       "      <td>f</td>\n",
       "      <td>4</td>\n",
       "    </tr>\n",
       "    <tr>\n",
       "      <th>2</th>\n",
       "      <td>c</td>\n",
       "      <td>1</td>\n",
       "      <td>f</td>\n",
       "      <td>3</td>\n",
       "    </tr>\n",
       "    <tr>\n",
       "      <th>3</th>\n",
       "      <td>d</td>\n",
       "      <td>1</td>\n",
       "      <td>f</td>\n",
       "      <td>2</td>\n",
       "    </tr>\n",
       "    <tr>\n",
       "      <th>4</th>\n",
       "      <td>e</td>\n",
       "      <td>1</td>\n",
       "      <td>f</td>\n",
       "      <td>1</td>\n",
       "    </tr>\n",
       "  </tbody>\n",
       "</table>\n",
       "</div>"
      ],
      "text/plain": [
       "  col1  col2 col3  new\n",
       "0    a     1    f    5\n",
       "1    b     1    f    4\n",
       "2    c     1    f    3\n",
       "3    d     1    f    2\n",
       "4    e     1    f    1"
      ]
     },
     "execution_count": 18,
     "metadata": {},
     "output_type": "execute_result"
    }
   ],
   "source": [
    "#add new column\n",
    "d = {\"col1\" : ['a','b','c','d','e'],\n",
    "     \"col2\" : 1,\n",
    "     \"col3\" : \"f\"}\n",
    "df = pd.DataFrame(d)\n",
    "df = df.assign(new = pd.Series([1,2,3,4,5], index=[4,3,2,1,0]))\n",
    "df"
   ]
  },
  {
   "cell_type": "markdown",
   "metadata": {},
   "source": [
    "## grouping"
   ]
  },
  {
   "cell_type": "code",
   "execution_count": 24,
   "metadata": {
    "colab": {
     "autoexec": {
      "startup": false,
      "wait_interval": 0
     },
     "base_uri": "https://localhost:8080/",
     "height": 136,
     "output_extras": [
      {
       "item_id": 1
      }
     ]
    },
    "colab_type": "code",
    "executionInfo": {
     "elapsed": 479,
     "status": "ok",
     "timestamp": 1522138415479,
     "user": {
      "displayName": "Carlos Padrón",
      "photoUrl": "//lh6.googleusercontent.com/-UUNqYpxzZzI/AAAAAAAAAAI/AAAAAAAAAJ4/3lCXN-PU3UY/s50-c-k-no/photo.jpg",
      "userId": "116143522284210031217"
     },
     "user_tz": -60
    },
    "id": "q1HUeXBmbgNL",
    "outputId": "ee0a3c01-6f26-4fb8-ce92-a310dd35aaa2"
   },
   "outputs": [
    {
     "data": {
      "text/plain": [
       "col3\n",
       "f    1.0\n",
       "Name: col2, dtype: float64"
      ]
     },
     "execution_count": 24,
     "metadata": {},
     "output_type": "execute_result"
    }
   ],
   "source": [
    "#Group dataframe by col1 and get mean.\n",
    "grouped = df.groupby('col3')\n",
    "grouped['col2'].mean()"
   ]
  },
  {
   "cell_type": "code",
   "execution_count": 25,
   "metadata": {},
   "outputs": [
    {
     "name": "stderr",
     "output_type": "stream",
     "text": [
      "/tmp/ipykernel_17054/674821955.py:2: FutureWarning: 'S' is deprecated and will be removed in a future version, please use 's' instead.\n",
      "  timestamps = pd.date_range(start=\"2023-01-01 00:00:00\", periods=100, freq=\"36S\")\n"
     ]
    },
    {
     "data": {
      "text/plain": [
       "0    2023-01-01 00:00:00\n",
       "1    2023-01-01 00:00:36\n",
       "2    2023-01-01 00:01:12\n",
       "3    2023-01-01 00:01:48\n",
       "4    2023-01-01 00:02:24\n",
       "             ...        \n",
       "95   2023-01-01 00:57:00\n",
       "96   2023-01-01 00:57:36\n",
       "97   2023-01-01 00:58:12\n",
       "98   2023-01-01 00:58:48\n",
       "99   2023-01-01 00:59:24\n",
       "Length: 100, dtype: datetime64[ns]"
      ]
     },
     "execution_count": 25,
     "metadata": {},
     "output_type": "execute_result"
    }
   ],
   "source": [
    "# Create a pandas series of 100 timestamps in a period of one hour\n",
    "timestamps = pd.date_range(start=\"2023-01-01 00:00:00\", periods=100, freq=\"36S\")\n",
    "series_of_timestamps = pd.Series(timestamps)\n",
    "series_of_timestamps"
   ]
  },
  {
   "cell_type": "code",
   "execution_count": 26,
   "metadata": {},
   "outputs": [
    {
     "data": {
      "text/html": [
       "<div>\n",
       "<style scoped>\n",
       "    .dataframe tbody tr th:only-of-type {\n",
       "        vertical-align: middle;\n",
       "    }\n",
       "\n",
       "    .dataframe tbody tr th {\n",
       "        vertical-align: top;\n",
       "    }\n",
       "\n",
       "    .dataframe thead th {\n",
       "        text-align: right;\n",
       "    }\n",
       "</style>\n",
       "<table border=\"1\" class=\"dataframe\">\n",
       "  <thead>\n",
       "    <tr style=\"text-align: right;\">\n",
       "      <th></th>\n",
       "      <th></th>\n",
       "      <th></th>\n",
       "    </tr>\n",
       "    <tr>\n",
       "      <th>lat</th>\n",
       "      <th>lon</th>\n",
       "      <th>date</th>\n",
       "    </tr>\n",
       "  </thead>\n",
       "  <tbody>\n",
       "    <tr>\n",
       "      <th>-89.657583</th>\n",
       "      <th>-96.955128</th>\n",
       "      <th>2023-01-01 00:00:00</th>\n",
       "    </tr>\n",
       "    <tr>\n",
       "      <th>-89.555442</th>\n",
       "      <th>-124.629237</th>\n",
       "      <th>2023-01-01 00:30:00</th>\n",
       "    </tr>\n",
       "    <tr>\n",
       "      <th>-87.029289</th>\n",
       "      <th>-128.829141</th>\n",
       "      <th>2023-01-01 00:15:00</th>\n",
       "    </tr>\n",
       "    <tr>\n",
       "      <th>-85.823300</th>\n",
       "      <th>-127.039895</th>\n",
       "      <th>2023-01-01 00:45:00</th>\n",
       "    </tr>\n",
       "    <tr>\n",
       "      <th>-84.758779</th>\n",
       "      <th>-151.312563</th>\n",
       "      <th>2023-01-01 00:45:00</th>\n",
       "    </tr>\n",
       "  </tbody>\n",
       "</table>\n",
       "</div>"
      ],
      "text/plain": [
       "Empty DataFrame\n",
       "Columns: []\n",
       "Index: [(-89.65758340054091, -96.95512849039248, 2023-01-01 00:00:00), (-89.55544159960792, -124.62923656325914, 2023-01-01 00:30:00), (-87.02928872659392, -128.82914082339238, 2023-01-01 00:15:00), (-85.82329954189701, -127.03989514641592, 2023-01-01 00:45:00), (-84.75877866183744, -151.3125632534693, 2023-01-01 00:45:00)]"
      ]
     },
     "execution_count": 26,
     "metadata": {},
     "output_type": "execute_result"
    }
   ],
   "source": [
    "#if a timestamp column is present, you can group by a particular period of time using pd.grouper\n",
    "\n",
    "import numpy as np\n",
    "df = pd.DataFrame({\n",
    "    \"date\": series_of_timestamps,\n",
    "    \"lat\": np.random.uniform(low=-90, high=90, size=100),  # Random latitudes between -90 and 90\n",
    "    \"lon\": np.random.uniform(low=-180, high=180, size=100)  # Random longitudes between -180 and 180\n",
    "})\n",
    "grouped = df.groupby([\"lat\", \"lon\", pd.Grouper(key='date', freq='15min')])\n",
    "summary = grouped.mean()\n",
    "summary.head()"
   ]
  },
  {
   "cell_type": "markdown",
   "metadata": {},
   "source": [
    "## slicing and selecting"
   ]
  },
  {
   "cell_type": "code",
   "execution_count": 27,
   "metadata": {},
   "outputs": [
    {
     "data": {
      "text/plain": [
       "0    a\n",
       "1    b\n",
       "2    c\n",
       "3    d\n",
       "4    e\n",
       "Name: col1, dtype: object"
      ]
     },
     "execution_count": 27,
     "metadata": {},
     "output_type": "execute_result"
    }
   ],
   "source": [
    "#Create a dataframe\n",
    "d = {\"col1\" : ['a','b','c','d','e'],\n",
    "     \"col2\" : ['x', 'y', 'y', 'y', 'y'],\n",
    "     \"col3\" : [1,1,2,2,4]}\n",
    "df = pd.DataFrame(d)\n",
    "\n",
    "#slice by col name\n",
    "df['col1']"
   ]
  },
  {
   "cell_type": "code",
   "execution_count": 28,
   "metadata": {},
   "outputs": [
    {
     "data": {
      "text/plain": [
       "col1    c\n",
       "col2    y\n",
       "col3    2\n",
       "Name: 2, dtype: object"
      ]
     },
     "execution_count": 28,
     "metadata": {},
     "output_type": "execute_result"
    }
   ],
   "source": [
    "#Create a dataframe\n",
    "d = {\"col1\" : ['a','b','c','d','e'],\n",
    "     \"col2\" : ['x', 'y', 'y', 'y', 'y'],\n",
    "     \"col3\" : [1,1,2,2,4]}\n",
    "df = pd.DataFrame(d)\n",
    "\n",
    "#slice by position\n",
    "df.iloc[2]"
   ]
  },
  {
   "cell_type": "code",
   "execution_count": 29,
   "metadata": {},
   "outputs": [
    {
     "data": {
      "text/plain": [
       "col1    e\n",
       "col2    y\n",
       "col3    4\n",
       "Name: fifth, dtype: object"
      ]
     },
     "execution_count": 29,
     "metadata": {},
     "output_type": "execute_result"
    }
   ],
   "source": [
    "#Create a dataframe\n",
    "d = {\"col1\" : ['a','b','c','d','e'],\n",
    "     \"col2\" : ['x', 'y', 'y', 'y', 'y'],\n",
    "     \"col3\" : [1,1,2,2,4]}\n",
    "df = pd.DataFrame(d, index = ['first', 'second', 'third', 'fourth', 'fifth'])\n",
    "\n",
    "#slice by row name\n",
    "df.loc['fifth']"
   ]
  },
  {
   "cell_type": "code",
   "execution_count": 30,
   "metadata": {},
   "outputs": [
    {
     "data": {
      "text/plain": [
       "0"
      ]
     },
     "execution_count": 30,
     "metadata": {},
     "output_type": "execute_result"
    }
   ],
   "source": [
    "#find location of column by name\n",
    "df.columns.get_loc(\"col1\")"
   ]
  }
 ],
 "metadata": {
  "kernelspec": {
   "display_name": "Python 3",
   "language": "python",
   "name": "python3"
  },
  "language_info": {
   "codemirror_mode": {
    "name": "ipython",
    "version": 3
   },
   "file_extension": ".py",
   "mimetype": "text/x-python",
   "name": "python",
   "nbconvert_exporter": "python",
   "pygments_lexer": "ipython3",
   "version": "3.10.14"
  },
  "toc-autonumbering": true
 },
 "nbformat": 4,
 "nbformat_minor": 4
}
